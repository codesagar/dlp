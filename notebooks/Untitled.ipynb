{
 "cells": [
  {
   "cell_type": "code",
   "execution_count": 3,
   "id": "ecdc5a4d-63d3-4bb8-a6f6-766af10a2a30",
   "metadata": {},
   "outputs": [],
   "source": [
    "from presidio_analyzer import AnalyzerEngine\n",
    "from presidio_anonymizer import AnonymizerEngine"
   ]
  },
  {
   "cell_type": "code",
   "execution_count": 112,
   "id": "10f5071d-1960-430d-a378-08f505a49f26",
   "metadata": {},
   "outputs": [],
   "source": [
    "text=\"My phone number is 212-555-5555 or 470-815-2571 and the important info is 4147 2026 0114 6333\"\n",
    "\n",
    "# Set up the engine, loads the NLP module (spaCy model by default) \n",
    "# and other PII recognizers\n",
    "analyzer = AnalyzerEngine()"
   ]
  },
  {
   "cell_type": "code",
   "execution_count": 107,
   "id": "3f375e49-d586-47c7-a9c4-5a3f74bd2bc9",
   "metadata": {},
   "outputs": [],
   "source": [
    "results = analyzer.analyze(text=text,\n",
    "                           entities=[\"PHONE_NUMBER\",\"CREDIT_CARD\"],\n",
    "                           language='en')"
   ]
  },
  {
   "cell_type": "code",
   "execution_count": 91,
   "id": "3c771fd8-7a2d-4425-b435-804abec0989c",
   "metadata": {},
   "outputs": [
    {
     "data": {
      "text/plain": [
       "[('4147 2026 0114 6333', 58, 77, 1.0), ('212-555-5555', 19, 31, 0.75)]"
      ]
     },
     "execution_count": 91,
     "metadata": {},
     "output_type": "execute_result"
    }
   ],
   "source": [
    "[(text[res.start:res.end], res.start, res.end, res.score) for res in results]"
   ]
  },
  {
   "cell_type": "code",
   "execution_count": 120,
   "id": "cf5fcaa4-5513-42e2-b1c0-5d514f18bd4c",
   "metadata": {},
   "outputs": [
    {
     "ename": "KeyError",
     "evalue": "'CREDIT_CARD'",
     "output_type": "error",
     "traceback": [
      "\u001b[0;31m---------------------------------------------------------------------------\u001b[0m",
      "\u001b[0;31mKeyError\u001b[0m                                  Traceback (most recent call last)",
      "Cell \u001b[0;32mIn[120], line 13\u001b[0m\n\u001b[1;32m      8\u001b[0m         \u001b[38;5;66;03m# if result_dict['entity_type'] in mapping.keys():\u001b[39;00m\n\u001b[1;32m      9\u001b[0m         \u001b[38;5;66;03m#     mapping[result_dict['entity_type']][text[result.start:result.end]] = result.score)\u001b[39;00m\n\u001b[1;32m     10\u001b[0m         \u001b[38;5;66;03m# else:\u001b[39;00m\n\u001b[1;32m     11\u001b[0m         \u001b[38;5;66;03m#     mapping[result_dict['entity_type']] = {text[result.start:result.end]:result.score}\u001b[39;00m\n\u001b[1;32m     12\u001b[0m     \u001b[38;5;28;01mreturn\u001b[39;00m text, mapping\n\u001b[0;32m---> 13\u001b[0m \u001b[43mdetect_pii\u001b[49m\u001b[43m(\u001b[49m\u001b[43mtext\u001b[49m\u001b[43m,\u001b[49m\u001b[43mentities\u001b[49m\u001b[43m)\u001b[49m\n",
      "Cell \u001b[0;32mIn[120], line 7\u001b[0m, in \u001b[0;36mdetect_pii\u001b[0;34m(text, entities)\u001b[0m\n\u001b[1;32m      5\u001b[0m \u001b[38;5;28;01mfor\u001b[39;00m result \u001b[38;5;129;01min\u001b[39;00m results:\n\u001b[1;32m      6\u001b[0m     result_dict \u001b[38;5;241m=\u001b[39m result\u001b[38;5;241m.\u001b[39mto_dict()\n\u001b[0;32m----> 7\u001b[0m     \u001b[43mmapping\u001b[49m\u001b[43m[\u001b[49m\u001b[43mresult_dict\u001b[49m\u001b[43m[\u001b[49m\u001b[38;5;124;43m'\u001b[39;49m\u001b[38;5;124;43mentity_type\u001b[39;49m\u001b[38;5;124;43m'\u001b[39;49m\u001b[43m]\u001b[49m\u001b[43m]\u001b[49m[text[result\u001b[38;5;241m.\u001b[39mstart:result\u001b[38;5;241m.\u001b[39mend]] \u001b[38;5;241m=\u001b[39m result\u001b[38;5;241m.\u001b[39mscore\n\u001b[1;32m      8\u001b[0m     \u001b[38;5;66;03m# if result_dict['entity_type'] in mapping.keys():\u001b[39;00m\n\u001b[1;32m      9\u001b[0m     \u001b[38;5;66;03m#     mapping[result_dict['entity_type']][text[result.start:result.end]] = result.score)\u001b[39;00m\n\u001b[1;32m     10\u001b[0m     \u001b[38;5;66;03m# else:\u001b[39;00m\n\u001b[1;32m     11\u001b[0m     \u001b[38;5;66;03m#     mapping[result_dict['entity_type']] = {text[result.start:result.end]:result.score}\u001b[39;00m\n\u001b[1;32m     12\u001b[0m \u001b[38;5;28;01mreturn\u001b[39;00m text, mapping\n",
      "\u001b[0;31mKeyError\u001b[0m: 'CREDIT_CARD'"
     ]
    }
   ],
   "source": [
    "def detect_pii(text: str, entities: List[str]) -> Tuple[str, Dict[str, str]]:\n",
    "    analyzer = AnalyzerEngine()\n",
    "    results = analyzer.analyze(text=text, entities=entities, language='en')\n",
    "    mapping = {}\n",
    "    for result in results:\n",
    "        result_dict = result.to_dict()\n",
    "        mapping[result_dict['entity_type']][text[result.start:result.end]] = result.score\n",
    "        # if result_dict['entity_type'] in mapping.keys():\n",
    "        #     mapping[result_dict['entity_type']][text[result.start:result.end]] = result.score)\n",
    "        # else:\n",
    "        #     mapping[result_dict['entity_type']] = {text[result.start:result.end]:result.score}\n",
    "    return text, mapping\n",
    "detect_pii(text,entities)"
   ]
  },
  {
   "cell_type": "code",
   "execution_count": 140,
   "id": "843d707a-aaea-4151-b91d-5df8ad6253ce",
   "metadata": {},
   "outputs": [
    {
     "data": {
      "text/plain": [
       "('My phone number is 212-555-5555 or 470-815-2571 and the important info is 4147 2026 0114 6333',\n",
       " [{'entity_type': 'CREDIT_CARD',\n",
       "   'start': 74,\n",
       "   'end': 93,\n",
       "   'score': 1.0,\n",
       "   'analysis_explanation': None,\n",
       "   'recognition_metadata': {'recognizer_name': 'CreditCardRecognizer',\n",
       "    'recognizer_identifier': 'CreditCardRecognizer_6324617904'}},\n",
       "  {'entity_type': 'PHONE_NUMBER',\n",
       "   'start': 19,\n",
       "   'end': 31,\n",
       "   'score': 0.75,\n",
       "   'analysis_explanation': None,\n",
       "   'recognition_metadata': {'recognizer_name': 'PhoneRecognizer',\n",
       "    'recognizer_identifier': 'PhoneRecognizer_6324618240'}},\n",
       "  {'entity_type': 'PHONE_NUMBER',\n",
       "   'start': 35,\n",
       "   'end': 47,\n",
       "   'score': 0.75,\n",
       "   'analysis_explanation': None,\n",
       "   'recognition_metadata': {'recognizer_name': 'PhoneRecognizer',\n",
       "    'recognizer_identifier': 'PhoneRecognizer_6324618240'}}])"
      ]
     },
     "execution_count": 140,
     "metadata": {},
     "output_type": "execute_result"
    }
   ],
   "source": [
    "def detect_pii(text: str, entities: List[str]) -> Tuple[str, Dict[str, Dict[str, float]]]:\n",
    "    analyzer = AnalyzerEngine()\n",
    "    results = analyzer.analyze(text=text, entities=entities, language='en')\n",
    "    mapping = {}\n",
    "\n",
    "    for result in results:\n",
    "        result_dict = result.to_dict()\n",
    "        entity_type = result_dict['entity_type']\n",
    "        entity_text = text[result.start:result.end]\n",
    "        entity_score = result.score\n",
    "\n",
    "        if entity_type not in mapping:\n",
    "            mapping[entity_type] = {}\n",
    "\n",
    "        # If the entity text already exists, we keep the higher score\n",
    "        if entity_text in mapping[entity_type]:\n",
    "            mapping[entity_type][entity_text] = max(entity_score, mapping[entity_type][entity_text])\n",
    "        else:\n",
    "            mapping[entity_type][entity_text] = entity_score\n",
    "\n",
    "    return text, [result.to_dict() for result in results]\n",
    "detect_pii(text,entities)"
   ]
  },
  {
   "cell_type": "code",
   "execution_count": 141,
   "id": "c1de7069-80d4-4014-9e44-9bbf9e3d4bb2",
   "metadata": {},
   "outputs": [
    {
     "data": {
      "text/plain": [
       "('My phone number is 212-555-5555 or 470-815-2571 and the important info is 4147 2026 0114 6333',\n",
       " {'CREDIT_CARD': {'4147 2026 0114 6333': 1.0},\n",
       "  'PHONE_NUMBER': {'212-555-5555': 0.75, '470-815-2571': 0.75}})"
      ]
     },
     "execution_count": 141,
     "metadata": {},
     "output_type": "execute_result"
    }
   ],
   "source": [
    "def detect_pii(text: str, entities: List[str]) -> Tuple[str, Dict[str, Dict[str, float]]]:\n",
    "    analyzer = AnalyzerEngine()\n",
    "    results = analyzer.analyze(text=text, entities=entities, language='en')\n",
    "    mapping = {}\n",
    "\n",
    "    for result in results:\n",
    "        result_dict = result.to_dict()\n",
    "        entity_type = result_dict['entity_type']\n",
    "        entity_text = text[result.start:result.end]\n",
    "        entity_score = result.score\n",
    "\n",
    "        if entity_type not in mapping:\n",
    "            mapping[entity_type] = {}\n",
    "\n",
    "        # If the entity text already exists, we keep the higher score\n",
    "        if entity_text in mapping[entity_type]:\n",
    "            mapping[entity_type][entity_text] = max(entity_score, mapping[entity_type][entity_text])\n",
    "        else:\n",
    "            mapping[entity_type][entity_text] = entity_score\n",
    "\n",
    "    return text, mapping\n",
    "detect_pii(text,entities)"
   ]
  },
  {
   "cell_type": "code",
   "execution_count": 136,
   "id": "efc09234-bf3c-47d9-84f9-46134bbdb4a1",
   "metadata": {},
   "outputs": [
    {
     "data": {
      "text/plain": [
       "('My phone number is 212-555-5555 or 470-815-2571 and the important info is 4147 2026 0114 6333',\n",
       " {'CREDIT_CARD': {'4147 2026 0114 6333': {'start': 74,\n",
       "    'end': 93,\n",
       "    'confidence': 1.0}},\n",
       "  'PHONE_NUMBER': {'212-555-5555': {'start': 19,\n",
       "    'end': 31,\n",
       "    'confidence': 0.75},\n",
       "   '470-815-2571': {'start': 35, 'end': 47, 'confidence': 0.75}}})"
      ]
     },
     "execution_count": 136,
     "metadata": {},
     "output_type": "execute_result"
    }
   ],
   "source": [
    "def detect_pii(text: str, entities: List[str]) -> Tuple[str, Dict[str, Dict[str, float]]]:\n",
    "    analyzer = AnalyzerEngine()\n",
    "    results = analyzer.analyze(text=text, entities=entities, language='en')\n",
    "    mapping = {}\n",
    "\n",
    "    for result in results:\n",
    "        result_dict = result.to_dict()\n",
    "        entity_type = result_dict['entity_type']\n",
    "        entity_text = text[result.start:result.end]\n",
    "        entity_score = result.score\n",
    "\n",
    "        if entity_type not in mapping:\n",
    "            mapping[entity_type] = {}\n",
    "\n",
    "        mapping[entity_type][entity_text] = {\"start\":result.start, \"end\":result.end, \"confidence\":result.score}\n",
    "\n",
    "    return text, mapping\n",
    "detect_pii(text,entities)"
   ]
  },
  {
   "cell_type": "code",
   "execution_count": 128,
   "id": "b3120042-c8d3-480e-9524-197a867e994a",
   "metadata": {},
   "outputs": [
    {
     "data": {
      "text/plain": [
       "('My phone number is 21XXXXXXXX55 or 47XXXXXXXX71 and the important info is 41XXXXXXXXXXXXXXX33',\n",
       " {'CREDIT_CARD': {'41XXXXXXXXXXXXXXX33': '4147 2026 0114 6333'},\n",
       "  'PHONE_NUMBER': {'21XXXXXXXX55': '212-555-5555',\n",
       "   '47XXXXXXXX71': '470-815-2571'}})"
      ]
     },
     "execution_count": 128,
     "metadata": {},
     "output_type": "execute_result"
    }
   ],
   "source": [
    "def mask_pii(text: str, entities: List[str]) -> Tuple[str, Dict[str, str]]:\n",
    "    analyzer = AnalyzerEngine()\n",
    "    results = analyzer.analyze(text=text, entities=entities, language='en')\n",
    "    mapping = {}\n",
    "    result_text = text\n",
    "    for result in results:\n",
    "        original_text = text[result.start:result.end]\n",
    "        masked_text = original_text[0:2] + \"X\" * (len(original_text) - 4) + original_text[-2:]\n",
    "        result_text = result_text[:result.start] + masked_text + result_text[result.end:]\n",
    "        entity_type = result.to_dict()['entity_type']\n",
    "        result_dict = result.to_dict()\n",
    "        if entity_type not in mapping:\n",
    "            mapping[entity_type] = {}\n",
    "        mapping[entity_type][masked_text] = original_text            \n",
    "    return result_text, mapping\n",
    "mask_pii(text,entities)"
   ]
  },
  {
   "cell_type": "code",
   "execution_count": 143,
   "id": "17f499cb-55e1-4e11-847f-0acefedb3950",
   "metadata": {},
   "outputs": [
    {
     "data": {
      "text/plain": [
       "('My phone number is 001-958-999-1394x411 or 001-897-825-1027x3464 and the important info is 4887623286016',\n",
       " {'PHONE_NUMBER': {'001-958-999-1394x411': '212-555-5555',\n",
       "   '001-897-825-1027x3464': '470-815-2571'},\n",
       "  'CREDIT_CARD': {'4887623286016': '4147 2026 0114 6333'}})"
      ]
     },
     "execution_count": 143,
     "metadata": {},
     "output_type": "execute_result"
    }
   ],
   "source": [
    "def anonymize_pii(text: str, entities: List[str]) -> Tuple[str, Dict[str, str]]:\n",
    "    anonymizer = PresidioReversibleAnonymizer(analyzed_fields = entities, faker_seed=3)\n",
    "    anonymized_results = anonymizer.anonymize(text)\n",
    "    mapping = anonymizer.deanonymizer_mapping\n",
    "    return anonymized_results, mapping\n",
    "anonymize_pii(text,entities)"
   ]
  },
  {
   "cell_type": "code",
   "execution_count": 118,
   "id": "34ba4d77-1d6e-422b-802a-058c784e6ea4",
   "metadata": {},
   "outputs": [
    {
     "data": {
      "text/plain": [
       "{'001-958-999-1394x411': '212-555-5555',\n",
       " '001-897-825-1027x3464': '470-815-2571'}"
      ]
     },
     "execution_count": 118,
     "metadata": {},
     "output_type": "execute_result"
    }
   ],
   "source": [
    "mapping['PHONE_NUMBER']"
   ]
  },
  {
   "cell_type": "code",
   "execution_count": 111,
   "id": "ecc8754e-4a79-49b8-9505-e7717f3e51de",
   "metadata": {},
   "outputs": [
    {
     "data": {
      "text/plain": [
       "('My phone number is 212-555-5555 or 4708152571 and the important info is 4147 2026 0114 6333',\n",
       " {'CREDIT_CARD': [{'4147 2026 0114 6333': 1.0}]})"
      ]
     },
     "execution_count": 111,
     "metadata": {},
     "output_type": "execute_result"
    }
   ],
   "source": [
    "from presidio_analyzer import AnalyzerEngine\n",
    "from typing import List, Dict, Tuple\n",
    "\n",
    "def detect_pii(text: str, entities: List[str], threshold: float) -> Tuple[str, Dict[str, List[Dict[str, float]]]]:\n",
    "    analyzer = AnalyzerEngine()\n",
    "    results = analyzer.analyze(text=text, entities=entities, language='en')\n",
    "    mapping = {}\n",
    "    for result in results:\n",
    "        result_dict = result.to_dict()\n",
    "        \n",
    "        if result_dict['score'] > threshold:\n",
    "            if result_dict['entity_type'] not in mapping:\n",
    "                mapping[result_dict['entity_type']] = []\n",
    "                        \n",
    "            entity_text = text[result_dict['start']:result_dict['end']]\n",
    "            mapping[result_dict['entity_type']].append({entity_text: result_dict['score']})\n",
    "\n",
    "    return text, mapping\n",
    "detect_pii(text,entities,0.9)"
   ]
  },
  {
   "cell_type": "code",
   "execution_count": 90,
   "id": "666c3230-c636-4420-bd1b-2d9c424169ab",
   "metadata": {},
   "outputs": [
    {
     "data": {
      "text/plain": [
       "{'entity_type': 'CREDIT_CARD',\n",
       " 'start': 58,\n",
       " 'end': 77,\n",
       " 'score': 1.0,\n",
       " 'analysis_explanation': None,\n",
       " 'recognition_metadata': {'recognizer_name': 'CreditCardRecognizer',\n",
       "  'recognizer_identifier': 'CreditCardRecognizer_12207259504'}}"
      ]
     },
     "execution_count": 90,
     "metadata": {},
     "output_type": "execute_result"
    }
   ],
   "source": [
    "results[0].to_dict()"
   ]
  },
  {
   "cell_type": "code",
   "execution_count": 19,
   "id": "a830df17-508d-459c-a99c-11ab75d5908d",
   "metadata": {},
   "outputs": [],
   "source": [
    "anonymizer = AnonymizerEngine()\n",
    "\n",
    "anonymized_text = anonymizer.anonymize(text=text,analyzer_results=results)"
   ]
  },
  {
   "cell_type": "code",
   "execution_count": 27,
   "id": "42dcd3f7-8529-468a-a698-adf22a6321ff",
   "metadata": {},
   "outputs": [
    {
     "name": "stdout",
     "output_type": "stream",
     "text": [
      "text: My name is BIP, BIP\n",
      "items:\n",
      "[\n",
      "    {'start': 16, 'end': 19, 'entity_type': 'PERSON', 'text': 'BIP', 'operator': 'replace'},\n",
      "    {'start': 11, 'end': 14, 'entity_type': 'PERSON', 'text': 'BIP', 'operator': 'replace'}\n",
      "]\n",
      "\n"
     ]
    }
   ],
   "source": [
    "from presidio_anonymizer.entities import RecognizerResult, OperatorConfig\n",
    "engine = AnonymizerEngine()\n",
    "result = engine.anonymize(\n",
    "    text=\"My name is Bond, James Bond\",\n",
    "    analyzer_results=[\n",
    "        RecognizerResult(entity_type=\"PERSON\", start=11, end=15, score=0.8),\n",
    "        RecognizerResult(entity_type=\"PERSON\", start=17, end=27, score=0.8),\n",
    "    ],\n",
    "    operators={\"PERSON\": OperatorConfig(\"replace\", {\"new_value\": \"BIP\"})},\n",
    ")\n",
    "\n",
    "print(result)"
   ]
  },
  {
   "cell_type": "code",
   "execution_count": 33,
   "id": "6ee7f466-c8c7-4db9-9c14-ec1516c8364b",
   "metadata": {},
   "outputs": [
    {
     "name": "stdout",
     "output_type": "stream",
     "text": [
      "[]\n",
      "text: My name is Bond, James Bond\n",
      "detailed response:\n"
     ]
    },
    {
     "ename": "TypeError",
     "evalue": "'module' object is not callable",
     "output_type": "error",
     "traceback": [
      "\u001b[0;31m---------------------------------------------------------------------------\u001b[0m",
      "\u001b[0;31mTypeError\u001b[0m                                 Traceback (most recent call last)",
      "Cell \u001b[0;32mIn[33], line 22\u001b[0m\n\u001b[1;32m     19\u001b[0m \u001b[38;5;28mprint\u001b[39m(\u001b[38;5;124mf\u001b[39m\u001b[38;5;124m\"\u001b[39m\u001b[38;5;124mtext: \u001b[39m\u001b[38;5;132;01m{\u001b[39;00manonymized_results\u001b[38;5;241m.\u001b[39mtext\u001b[38;5;132;01m}\u001b[39;00m\u001b[38;5;124m\"\u001b[39m)\n\u001b[1;32m     20\u001b[0m \u001b[38;5;28mprint\u001b[39m(\u001b[38;5;124m\"\u001b[39m\u001b[38;5;124mdetailed response:\u001b[39m\u001b[38;5;124m\"\u001b[39m)\n\u001b[0;32m---> 22\u001b[0m \u001b[43mpprint\u001b[49m\u001b[43m(\u001b[49m\u001b[43manonymized_results\u001b[49m\u001b[38;5;241;43m.\u001b[39;49m\u001b[43mto_json\u001b[49m\u001b[43m(\u001b[49m\u001b[43m)\u001b[49m\u001b[43m)\u001b[49m\n",
      "\u001b[0;31mTypeError\u001b[0m: 'module' object is not callable"
     ]
    }
   ],
   "source": [
    "import pprint\n",
    "import json\n",
    "\n",
    "analyzer = AnalyzerEngine()\n",
    "analyzer_results = analyzer.analyze(text=text_to_anonymize, entities=[\"PHONE_NUMBER\"], language='en')\n",
    "\n",
    "print(analyzer_results)\n",
    "\n",
    "anonymizer = AnonymizerEngine()\n",
    "text_to_anonymize=\"My name is Bond, James Bond\"\n",
    "anonymized_results = anonymizer.anonymize(\n",
    "    text=text_to_anonymize,\n",
    "    analyzer_results=analyzer_results,    \n",
    "    operators={\"DEFAULT\": OperatorConfig(\"replace\", {\"new_value\": \"<ANONYMIZED>\"}), \n",
    "                        \"PHONE_NUMBER\": OperatorConfig(\"mask\", {\"type\": \"mask\", \"masking_char\" : \"*\", \"chars_to_mask\" : 12, \"from_end\" : True}),\n",
    "                        \"TITLE\": OperatorConfig(\"redact\", {})}\n",
    ")\n",
    "\n",
    "print(f\"text: {anonymized_results.text}\")\n",
    "print(\"detailed response:\")\n",
    "\n",
    "pprint(anonymized_results.to_json())"
   ]
  },
  {
   "cell_type": "code",
   "execution_count": 49,
   "id": "f1d5bf69-7d72-40b7-bf73-ad39c70f697c",
   "metadata": {},
   "outputs": [],
   "source": [
    "from langchain_experimental.data_anonymizer import PresidioReversibleAnonymizer\n",
    "\n",
    "anonymizer = PresidioReversibleAnonymizer(\n",
    "    analyzed_fields=[\"PERSON\", \"PHONE_NUMBER\", \"EMAIL_ADDRESS\", \"CREDIT_CARD\"],\n",
    "    # Faker seed is used here to make sure the same fake data is generated for the test purposes\n",
    "    # In production, it is recommended to remove the faker_seed parameter (it will default to None)\n",
    "    faker_seed=42,\n",
    ")"
   ]
  },
  {
   "cell_type": "code",
   "execution_count": 54,
   "id": "d229c4cf-e078-4435-8fb7-0a0ab8a84cd3",
   "metadata": {},
   "outputs": [
    {
     "data": {
      "text/plain": [
       "{'PERSON': {'Maria Lynch': 'Slim Shady'},\n",
       " 'PHONE_NUMBER': {'7344131647': '313-666-7440'},\n",
       " 'EMAIL_ADDRESS': {'jamesmichael@example.com': 'real.slim.shady@gmail.com'},\n",
       " 'CREDIT_CARD': {'4838637940262': '4916 0387 9536 0861'}}"
      ]
     },
     "execution_count": 54,
     "metadata": {},
     "output_type": "execute_result"
    }
   ],
   "source": [
    "anonymizer.deanonymizer_mapping"
   ]
  },
  {
   "cell_type": "code",
   "execution_count": 53,
   "id": "9482a697-cfcd-4409-9e72-41434800bd7c",
   "metadata": {},
   "outputs": [
    {
     "data": {
      "text/plain": [
       "'My name is Maria Lynch, call me at 7344131647 or email me at jamesmichael@example.com. By the way, my card number is: 4916 0387 9536 0860'"
      ]
     },
     "execution_count": 53,
     "metadata": {},
     "output_type": "execute_result"
    }
   ],
   "source": [
    "anonymizer.anonymize(\n",
    "    \"My name is Slim Shady, call me at 313-666-7440 or email me at real.slim.shady@gmail.com. \"\n",
    "    \"By the way, my card number is: 4916 0387 9536 0860\"\n",
    ")"
   ]
  },
  {
   "cell_type": "code",
   "execution_count": 73,
   "id": "ac195323-a943-4ea8-a113-595569449f8e",
   "metadata": {},
   "outputs": [],
   "source": [
    "from typing import List, Tuple, Dict\n",
    "def anonymize_pii(text: str, entities: List[str]) -> Tuple[str, Dict[str, str]]:\n",
    "    anonymizer = PresidioReversibleAnonymizer(analyzed_fields = entities, faker_seed=123)\n",
    "    results = analyzer.analyze(text=text, entities=entities, language='en')\n",
    "    anonymized_results = anonymizer.anonymize(text)\n",
    "    mapping = anonymizer.deanonymizer_mapping\n",
    "    return anonymized_results, mapping"
   ]
  },
  {
   "cell_type": "code",
   "execution_count": 76,
   "id": "34a66129-548d-40e7-9c39-4e51b6d9de78",
   "metadata": {},
   "outputs": [
    {
     "data": {
      "text/plain": [
       "('My name is Gwendolyn Solis and I work with Alisha Pruitt, call me at (906)319-6105 or email me at robersonnancy@example.com.',\n",
       " {'PERSON': {'Gwendolyn Solis': 'Slim Shady', 'Alisha Pruitt': 'Vince'},\n",
       "  'PHONE_NUMBER': {'(906)319-6105': '313-666-7440'},\n",
       "  'EMAIL_ADDRESS': {'robersonnancy@example.com': 'real.slim.shady@gmail.com'}})"
      ]
     },
     "execution_count": 76,
     "metadata": {},
     "output_type": "execute_result"
    }
   ],
   "source": [
    "text = \"My name is Slim Shady and I work with Vince, call me at 313-666-7440 or email me at real.slim.shady@gmail.com.\"\n",
    "entities = [\"PERSON\", \"PHONE_NUMBER\", \"EMAIL_ADDRESS\", \"CREDIT_CARD\"]\n",
    "anonymize_pii(text,entities)"
   ]
  },
  {
   "cell_type": "code",
   "execution_count": null,
   "id": "73c170dc-be47-4bfe-a949-ec36c59632b5",
   "metadata": {},
   "outputs": [],
   "source": []
  }
 ],
 "metadata": {
  "kernelspec": {
   "display_name": "Python 3 (ipykernel)",
   "language": "python",
   "name": "python3"
  },
  "language_info": {
   "codemirror_mode": {
    "name": "ipython",
    "version": 3
   },
   "file_extension": ".py",
   "mimetype": "text/x-python",
   "name": "python",
   "nbconvert_exporter": "python",
   "pygments_lexer": "ipython3",
   "version": "3.9.18"
  }
 },
 "nbformat": 4,
 "nbformat_minor": 5
}
